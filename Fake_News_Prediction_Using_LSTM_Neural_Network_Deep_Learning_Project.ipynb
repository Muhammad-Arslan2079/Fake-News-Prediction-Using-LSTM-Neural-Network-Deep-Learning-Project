{
  "nbformat": 4,
  "nbformat_minor": 0,
  "metadata": {
    "colab": {
      "provenance": [],
      "gpuType": "T4"
    },
    "kernelspec": {
      "name": "python3",
      "display_name": "Python 3"
    },
    "language_info": {
      "name": "python"
    },
    "accelerator": "GPU"
  },
  "cells": [
    {
      "cell_type": "markdown",
      "source": [
        "**Importing Libraries**"
      ],
      "metadata": {
        "id": "ZFbCRpIP9Iy9"
      }
    },
    {
      "cell_type": "code",
      "execution_count": 35,
      "metadata": {
        "id": "spD64bqL6Ye-"
      },
      "outputs": [],
      "source": [
        "import numpy as np # for numpy arrays\n",
        "import pandas as pd # to load dataset and data analysis\n",
        "import re # regular expression library for fetching and patterns and expressions in data\n",
        "from nltk.corpus import stopwords  # for comparing and removing less important,common words\n",
        "from nltk.stem.porter import PorterStemmer\n",
        "from sklearn.model_selection import train_test_split\n",
        "from tensorflow.keras.models import Sequential # to create sequential models in which layers can be linearly stacked\n",
        "from tensorflow.keras.layers import Dense,Embedding,LSTM\n",
        "from tensorflow.keras.preprocessing.text import Tokenizer\n",
        "from tensorflow.keras.preprocessing.sequence import pad_sequences\n",
        "import os  # for accessing operating system environment variables to create folders,setting paths\n",
        "import json # read and write json format file\n",
        "from zipfile import ZipFile # to unzip compressed downloaded dataset"
      ]
    },
    {
      "cell_type": "markdown",
      "source": [
        "**Data Collection through Kaggle API**"
      ],
      "metadata": {
        "id": "L4tH4YEg9Ovo"
      }
    },
    {
      "cell_type": "code",
      "source": [
        "!pip install kaggle # installing kaggle to access datasets\n",
        "kaggle_dictionary= json.load(open('/content/kaggle.json')) #loading kaggle. json format file in kaggle dictionary variable"
      ],
      "metadata": {
        "colab": {
          "base_uri": "https://localhost:8080/"
        },
        "id": "XELXhGcU9SxX",
        "outputId": "5dcc7c0f-b43e-4314-e3de-cc54782d39b1"
      },
      "execution_count": 36,
      "outputs": [
        {
          "output_type": "stream",
          "name": "stdout",
          "text": [
            "Requirement already satisfied: kaggle in /usr/local/lib/python3.11/dist-packages (1.7.4.5)\n",
            "Requirement already satisfied: bleach in /usr/local/lib/python3.11/dist-packages (from kaggle) (6.2.0)\n",
            "Requirement already satisfied: certifi>=14.05.14 in /usr/local/lib/python3.11/dist-packages (from kaggle) (2025.7.14)\n",
            "Requirement already satisfied: charset-normalizer in /usr/local/lib/python3.11/dist-packages (from kaggle) (3.4.2)\n",
            "Requirement already satisfied: idna in /usr/local/lib/python3.11/dist-packages (from kaggle) (3.10)\n",
            "Requirement already satisfied: protobuf in /usr/local/lib/python3.11/dist-packages (from kaggle) (5.29.5)\n",
            "Requirement already satisfied: python-dateutil>=2.5.3 in /usr/local/lib/python3.11/dist-packages (from kaggle) (2.9.0.post0)\n",
            "Requirement already satisfied: python-slugify in /usr/local/lib/python3.11/dist-packages (from kaggle) (8.0.4)\n",
            "Requirement already satisfied: requests in /usr/local/lib/python3.11/dist-packages (from kaggle) (2.32.3)\n",
            "Requirement already satisfied: setuptools>=21.0.0 in /usr/local/lib/python3.11/dist-packages (from kaggle) (75.2.0)\n",
            "Requirement already satisfied: six>=1.10 in /usr/local/lib/python3.11/dist-packages (from kaggle) (1.17.0)\n",
            "Requirement already satisfied: text-unidecode in /usr/local/lib/python3.11/dist-packages (from kaggle) (1.3)\n",
            "Requirement already satisfied: tqdm in /usr/local/lib/python3.11/dist-packages (from kaggle) (4.67.1)\n",
            "Requirement already satisfied: urllib3>=1.15.1 in /usr/local/lib/python3.11/dist-packages (from kaggle) (2.5.0)\n",
            "Requirement already satisfied: webencodings in /usr/local/lib/python3.11/dist-packages (from kaggle) (0.5.1)\n"
          ]
        }
      ]
    },
    {
      "cell_type": "markdown",
      "source": [
        "**Setting up Kaggle credentials**"
      ],
      "metadata": {
        "id": "rtPi15hi-Cr9"
      }
    },
    {
      "cell_type": "code",
      "source": [
        "kaggle_dictionary.keys() # dictionary has key value pairs\n",
        "os.environ['KAGGLE_USERNAME']= kaggle_dictionary['username'] # accessing environment variables and saving in dictionary\n",
        "os.environ['KAGGLE_KEY']= kaggle_dictionary['key']"
      ],
      "metadata": {
        "id": "ld5qxtda-HcD"
      },
      "execution_count": 37,
      "outputs": []
    },
    {
      "cell_type": "markdown",
      "source": [
        "**Downloading kaggle dataset using API Command**"
      ],
      "metadata": {
        "id": "KyqzIOOy-u6o"
      }
    },
    {
      "cell_type": "code",
      "source": [
        "#!/bin/bash\n",
        "!kaggle datasets download jruvika/fake-news-detection # downloading dataset in compressed zip form"
      ],
      "metadata": {
        "colab": {
          "base_uri": "https://localhost:8080/"
        },
        "id": "fPcB7jIaBnS-",
        "outputId": "718d2def-4f24-4f88-9867-3c2b4ac697d3"
      },
      "execution_count": 38,
      "outputs": [
        {
          "output_type": "stream",
          "name": "stdout",
          "text": [
            "Dataset URL: https://www.kaggle.com/datasets/jruvika/fake-news-detection\n",
            "License(s): ODbL-1.0\n",
            "fake-news-detection.zip: Skipping, found more recently modified local copy (use --force to force download)\n"
          ]
        }
      ]
    },
    {
      "cell_type": "markdown",
      "source": [
        "**Unziping the compressed kaggle dataset**"
      ],
      "metadata": {
        "id": "VxN4iktvB3kH"
      }
    },
    {
      "cell_type": "code",
      "source": [
        "with ZipFile('/content/fake-news-detection.zip') as unzipped: # unzip the compressed folder\n",
        "   unzipped.extractall()"
      ],
      "metadata": {
        "id": "vxcLPa4MB7VS"
      },
      "execution_count": 39,
      "outputs": []
    },
    {
      "cell_type": "markdown",
      "source": [
        "**Dataset Loading and Preprocessing**"
      ],
      "metadata": {
        "id": "O1cuufbkCozb"
      }
    },
    {
      "cell_type": "code",
      "source": [
        "df=pd.read_csv('/content/data.csv') # creating dataframe and loading dataset\n",
        "df.head() # first 5 rows"
      ],
      "metadata": {
        "colab": {
          "base_uri": "https://localhost:8080/",
          "height": 293
        },
        "id": "sP1XQgbUCGtY",
        "outputId": "a5fe9c4f-6b0b-44be-9bc4-51943822c77f"
      },
      "execution_count": 40,
      "outputs": [
        {
          "output_type": "execute_result",
          "data": {
            "text/plain": [
              "                                                URLs  \\\n",
              "0  http://www.bbc.com/news/world-us-canada-414191...   \n",
              "1  https://www.reuters.com/article/us-filmfestiva...   \n",
              "2  https://www.nytimes.com/2017/10/09/us/politics...   \n",
              "3  https://www.reuters.com/article/us-mexico-oil-...   \n",
              "4  http://www.cnn.com/videos/cnnmoney/2017/10/08/...   \n",
              "\n",
              "                                            Headline  \\\n",
              "0         Four ways Bob Corker skewered Donald Trump   \n",
              "1  Linklater's war veteran comedy speaks to moder...   \n",
              "2  Trump’s Fight With Corker Jeopardizes His Legi...   \n",
              "3  Egypt's Cheiron wins tie-up with Pemex for Mex...   \n",
              "4        Jason Aldean opens 'SNL' with Vegas tribute   \n",
              "\n",
              "                                                Body  Label  \n",
              "0  Image copyright Getty Images\\nOn Sunday mornin...      1  \n",
              "1  LONDON (Reuters) - “Last Flag Flying”, a comed...      1  \n",
              "2  The feud broke into public view last week when...      1  \n",
              "3  MEXICO CITY (Reuters) - Egypt’s Cheiron Holdin...      1  \n",
              "4  Country singer Jason Aldean, who was performin...      1  "
            ],
            "text/html": [
              "\n",
              "  <div id=\"df-b118f62a-a802-487f-b24c-4279b760587d\" class=\"colab-df-container\">\n",
              "    <div>\n",
              "<style scoped>\n",
              "    .dataframe tbody tr th:only-of-type {\n",
              "        vertical-align: middle;\n",
              "    }\n",
              "\n",
              "    .dataframe tbody tr th {\n",
              "        vertical-align: top;\n",
              "    }\n",
              "\n",
              "    .dataframe thead th {\n",
              "        text-align: right;\n",
              "    }\n",
              "</style>\n",
              "<table border=\"1\" class=\"dataframe\">\n",
              "  <thead>\n",
              "    <tr style=\"text-align: right;\">\n",
              "      <th></th>\n",
              "      <th>URLs</th>\n",
              "      <th>Headline</th>\n",
              "      <th>Body</th>\n",
              "      <th>Label</th>\n",
              "    </tr>\n",
              "  </thead>\n",
              "  <tbody>\n",
              "    <tr>\n",
              "      <th>0</th>\n",
              "      <td>http://www.bbc.com/news/world-us-canada-414191...</td>\n",
              "      <td>Four ways Bob Corker skewered Donald Trump</td>\n",
              "      <td>Image copyright Getty Images\\nOn Sunday mornin...</td>\n",
              "      <td>1</td>\n",
              "    </tr>\n",
              "    <tr>\n",
              "      <th>1</th>\n",
              "      <td>https://www.reuters.com/article/us-filmfestiva...</td>\n",
              "      <td>Linklater's war veteran comedy speaks to moder...</td>\n",
              "      <td>LONDON (Reuters) - “Last Flag Flying”, a comed...</td>\n",
              "      <td>1</td>\n",
              "    </tr>\n",
              "    <tr>\n",
              "      <th>2</th>\n",
              "      <td>https://www.nytimes.com/2017/10/09/us/politics...</td>\n",
              "      <td>Trump’s Fight With Corker Jeopardizes His Legi...</td>\n",
              "      <td>The feud broke into public view last week when...</td>\n",
              "      <td>1</td>\n",
              "    </tr>\n",
              "    <tr>\n",
              "      <th>3</th>\n",
              "      <td>https://www.reuters.com/article/us-mexico-oil-...</td>\n",
              "      <td>Egypt's Cheiron wins tie-up with Pemex for Mex...</td>\n",
              "      <td>MEXICO CITY (Reuters) - Egypt’s Cheiron Holdin...</td>\n",
              "      <td>1</td>\n",
              "    </tr>\n",
              "    <tr>\n",
              "      <th>4</th>\n",
              "      <td>http://www.cnn.com/videos/cnnmoney/2017/10/08/...</td>\n",
              "      <td>Jason Aldean opens 'SNL' with Vegas tribute</td>\n",
              "      <td>Country singer Jason Aldean, who was performin...</td>\n",
              "      <td>1</td>\n",
              "    </tr>\n",
              "  </tbody>\n",
              "</table>\n",
              "</div>\n",
              "    <div class=\"colab-df-buttons\">\n",
              "\n",
              "  <div class=\"colab-df-container\">\n",
              "    <button class=\"colab-df-convert\" onclick=\"convertToInteractive('df-b118f62a-a802-487f-b24c-4279b760587d')\"\n",
              "            title=\"Convert this dataframe to an interactive table.\"\n",
              "            style=\"display:none;\">\n",
              "\n",
              "  <svg xmlns=\"http://www.w3.org/2000/svg\" height=\"24px\" viewBox=\"0 -960 960 960\">\n",
              "    <path d=\"M120-120v-720h720v720H120Zm60-500h600v-160H180v160Zm220 220h160v-160H400v160Zm0 220h160v-160H400v160ZM180-400h160v-160H180v160Zm440 0h160v-160H620v160ZM180-180h160v-160H180v160Zm440 0h160v-160H620v160Z\"/>\n",
              "  </svg>\n",
              "    </button>\n",
              "\n",
              "  <style>\n",
              "    .colab-df-container {\n",
              "      display:flex;\n",
              "      gap: 12px;\n",
              "    }\n",
              "\n",
              "    .colab-df-convert {\n",
              "      background-color: #E8F0FE;\n",
              "      border: none;\n",
              "      border-radius: 50%;\n",
              "      cursor: pointer;\n",
              "      display: none;\n",
              "      fill: #1967D2;\n",
              "      height: 32px;\n",
              "      padding: 0 0 0 0;\n",
              "      width: 32px;\n",
              "    }\n",
              "\n",
              "    .colab-df-convert:hover {\n",
              "      background-color: #E2EBFA;\n",
              "      box-shadow: 0px 1px 2px rgba(60, 64, 67, 0.3), 0px 1px 3px 1px rgba(60, 64, 67, 0.15);\n",
              "      fill: #174EA6;\n",
              "    }\n",
              "\n",
              "    .colab-df-buttons div {\n",
              "      margin-bottom: 4px;\n",
              "    }\n",
              "\n",
              "    [theme=dark] .colab-df-convert {\n",
              "      background-color: #3B4455;\n",
              "      fill: #D2E3FC;\n",
              "    }\n",
              "\n",
              "    [theme=dark] .colab-df-convert:hover {\n",
              "      background-color: #434B5C;\n",
              "      box-shadow: 0px 1px 3px 1px rgba(0, 0, 0, 0.15);\n",
              "      filter: drop-shadow(0px 1px 2px rgba(0, 0, 0, 0.3));\n",
              "      fill: #FFFFFF;\n",
              "    }\n",
              "  </style>\n",
              "\n",
              "    <script>\n",
              "      const buttonEl =\n",
              "        document.querySelector('#df-b118f62a-a802-487f-b24c-4279b760587d button.colab-df-convert');\n",
              "      buttonEl.style.display =\n",
              "        google.colab.kernel.accessAllowed ? 'block' : 'none';\n",
              "\n",
              "      async function convertToInteractive(key) {\n",
              "        const element = document.querySelector('#df-b118f62a-a802-487f-b24c-4279b760587d');\n",
              "        const dataTable =\n",
              "          await google.colab.kernel.invokeFunction('convertToInteractive',\n",
              "                                                    [key], {});\n",
              "        if (!dataTable) return;\n",
              "\n",
              "        const docLinkHtml = 'Like what you see? Visit the ' +\n",
              "          '<a target=\"_blank\" href=https://colab.research.google.com/notebooks/data_table.ipynb>data table notebook</a>'\n",
              "          + ' to learn more about interactive tables.';\n",
              "        element.innerHTML = '';\n",
              "        dataTable['output_type'] = 'display_data';\n",
              "        await google.colab.output.renderOutput(dataTable, element);\n",
              "        const docLink = document.createElement('div');\n",
              "        docLink.innerHTML = docLinkHtml;\n",
              "        element.appendChild(docLink);\n",
              "      }\n",
              "    </script>\n",
              "  </div>\n",
              "\n",
              "\n",
              "    <div id=\"df-efe7d19b-475a-4b65-85e6-4f29262db317\">\n",
              "      <button class=\"colab-df-quickchart\" onclick=\"quickchart('df-efe7d19b-475a-4b65-85e6-4f29262db317')\"\n",
              "                title=\"Suggest charts\"\n",
              "                style=\"display:none;\">\n",
              "\n",
              "<svg xmlns=\"http://www.w3.org/2000/svg\" height=\"24px\"viewBox=\"0 0 24 24\"\n",
              "     width=\"24px\">\n",
              "    <g>\n",
              "        <path d=\"M19 3H5c-1.1 0-2 .9-2 2v14c0 1.1.9 2 2 2h14c1.1 0 2-.9 2-2V5c0-1.1-.9-2-2-2zM9 17H7v-7h2v7zm4 0h-2V7h2v10zm4 0h-2v-4h2v4z\"/>\n",
              "    </g>\n",
              "</svg>\n",
              "      </button>\n",
              "\n",
              "<style>\n",
              "  .colab-df-quickchart {\n",
              "      --bg-color: #E8F0FE;\n",
              "      --fill-color: #1967D2;\n",
              "      --hover-bg-color: #E2EBFA;\n",
              "      --hover-fill-color: #174EA6;\n",
              "      --disabled-fill-color: #AAA;\n",
              "      --disabled-bg-color: #DDD;\n",
              "  }\n",
              "\n",
              "  [theme=dark] .colab-df-quickchart {\n",
              "      --bg-color: #3B4455;\n",
              "      --fill-color: #D2E3FC;\n",
              "      --hover-bg-color: #434B5C;\n",
              "      --hover-fill-color: #FFFFFF;\n",
              "      --disabled-bg-color: #3B4455;\n",
              "      --disabled-fill-color: #666;\n",
              "  }\n",
              "\n",
              "  .colab-df-quickchart {\n",
              "    background-color: var(--bg-color);\n",
              "    border: none;\n",
              "    border-radius: 50%;\n",
              "    cursor: pointer;\n",
              "    display: none;\n",
              "    fill: var(--fill-color);\n",
              "    height: 32px;\n",
              "    padding: 0;\n",
              "    width: 32px;\n",
              "  }\n",
              "\n",
              "  .colab-df-quickchart:hover {\n",
              "    background-color: var(--hover-bg-color);\n",
              "    box-shadow: 0 1px 2px rgba(60, 64, 67, 0.3), 0 1px 3px 1px rgba(60, 64, 67, 0.15);\n",
              "    fill: var(--button-hover-fill-color);\n",
              "  }\n",
              "\n",
              "  .colab-df-quickchart-complete:disabled,\n",
              "  .colab-df-quickchart-complete:disabled:hover {\n",
              "    background-color: var(--disabled-bg-color);\n",
              "    fill: var(--disabled-fill-color);\n",
              "    box-shadow: none;\n",
              "  }\n",
              "\n",
              "  .colab-df-spinner {\n",
              "    border: 2px solid var(--fill-color);\n",
              "    border-color: transparent;\n",
              "    border-bottom-color: var(--fill-color);\n",
              "    animation:\n",
              "      spin 1s steps(1) infinite;\n",
              "  }\n",
              "\n",
              "  @keyframes spin {\n",
              "    0% {\n",
              "      border-color: transparent;\n",
              "      border-bottom-color: var(--fill-color);\n",
              "      border-left-color: var(--fill-color);\n",
              "    }\n",
              "    20% {\n",
              "      border-color: transparent;\n",
              "      border-left-color: var(--fill-color);\n",
              "      border-top-color: var(--fill-color);\n",
              "    }\n",
              "    30% {\n",
              "      border-color: transparent;\n",
              "      border-left-color: var(--fill-color);\n",
              "      border-top-color: var(--fill-color);\n",
              "      border-right-color: var(--fill-color);\n",
              "    }\n",
              "    40% {\n",
              "      border-color: transparent;\n",
              "      border-right-color: var(--fill-color);\n",
              "      border-top-color: var(--fill-color);\n",
              "    }\n",
              "    60% {\n",
              "      border-color: transparent;\n",
              "      border-right-color: var(--fill-color);\n",
              "    }\n",
              "    80% {\n",
              "      border-color: transparent;\n",
              "      border-right-color: var(--fill-color);\n",
              "      border-bottom-color: var(--fill-color);\n",
              "    }\n",
              "    90% {\n",
              "      border-color: transparent;\n",
              "      border-bottom-color: var(--fill-color);\n",
              "    }\n",
              "  }\n",
              "</style>\n",
              "\n",
              "      <script>\n",
              "        async function quickchart(key) {\n",
              "          const quickchartButtonEl =\n",
              "            document.querySelector('#' + key + ' button');\n",
              "          quickchartButtonEl.disabled = true;  // To prevent multiple clicks.\n",
              "          quickchartButtonEl.classList.add('colab-df-spinner');\n",
              "          try {\n",
              "            const charts = await google.colab.kernel.invokeFunction(\n",
              "                'suggestCharts', [key], {});\n",
              "          } catch (error) {\n",
              "            console.error('Error during call to suggestCharts:', error);\n",
              "          }\n",
              "          quickchartButtonEl.classList.remove('colab-df-spinner');\n",
              "          quickchartButtonEl.classList.add('colab-df-quickchart-complete');\n",
              "        }\n",
              "        (() => {\n",
              "          let quickchartButtonEl =\n",
              "            document.querySelector('#df-efe7d19b-475a-4b65-85e6-4f29262db317 button');\n",
              "          quickchartButtonEl.style.display =\n",
              "            google.colab.kernel.accessAllowed ? 'block' : 'none';\n",
              "        })();\n",
              "      </script>\n",
              "    </div>\n",
              "\n",
              "    </div>\n",
              "  </div>\n"
            ],
            "application/vnd.google.colaboratory.intrinsic+json": {
              "type": "dataframe",
              "variable_name": "df",
              "summary": "{\n  \"name\": \"df\",\n  \"rows\": 4009,\n  \"fields\": [\n    {\n      \"column\": \"URLs\",\n      \"properties\": {\n        \"dtype\": \"string\",\n        \"num_unique_values\": 3352,\n        \"samples\": [\n          \"http://beforeitsnews.com/sports/2017/09/jetnation-tuesday-tidbits-jets-maye-have-something-with-safety-tandem-2701190.html\\n\\n\",\n          \"http://www.disclose.tv/news/this_marine_stole_a_truck_and_saved_dozens_of_vegas_shooting_victims_now_the_car_owner_sent_him_this_message/140445\",\n          \"http://beforeitsnews.com/entertainment/2017/09/ashley-j-announces-her-new-empowering-and-energetic-pop-single-unbreakable-releasing-10617-2670588.html\\r\\n\"\n        ],\n        \"semantic_type\": \"\",\n        \"description\": \"\"\n      }\n    },\n    {\n      \"column\": \"Headline\",\n      \"properties\": {\n        \"dtype\": \"string\",\n        \"num_unique_values\": 2831,\n        \"samples\": [\n          \"How the Guptas' brand turned toxic in South Africa\",\n          \"Pols And Celebs Now Blame Trump For Puerto Rico And Las Vegas\",\n          \"After 'bloody mess' jab, Macron eyes training, job insurance reform\"\n        ],\n        \"semantic_type\": \"\",\n        \"description\": \"\"\n      }\n    },\n    {\n      \"column\": \"Body\",\n      \"properties\": {\n        \"dtype\": \"string\",\n        \"num_unique_values\": 2863,\n        \"samples\": [\n          \"Ahead of Foster the People's show at the \\\"All Things Go\\\" festival in Washington, lead singer Mark Foster tells #GetPolitical how the Vegas shooting changed him.\",\n          \"This was a break from the usual \\u2014 for rock acts in general and this one in particular. It was \\u201cweird\\u201d and conceptual in all the ways Mr. Petty\\u2019s music was vividly normal. They were casting themselves as survivors of some pre-video age. I don\\u2019t think I actually heard \\u201cYou Got Lucky\\u201d because I had seen it. And it looked stoned.\\nAdvertisement Continue reading the main story\\nIn the week or so since his death last Monday, Mr. Petty has been memorialized as carrying some kind of classic-rock baton, which came as a surprise to me since all my first encounters with him happened on MTV. That\\u2019s a rock-critic distinction. And it makes sense for the purists to lay their claim. Mr. Petty has never sounded out of place in a block crammed with, say, \\u201cStairway to Heaven,\\u201d \\u201cHotel California\\u201d and \\u201cLegs.\\u201d But Mr. Petty belonged as much to MTV, alongside Duran Duran and Cyndi Lauper, as he did to the old-guard rigidity of whatever is meant by \\u201cclassic rock.\\u201d\\nIt\\u2019s true, there was a classicism to his approach to rock, whether he was on his own, recording with the Heartbreakers or with the Traveling Wilburys, a sort of rock-historical Avengers. But his elasticity and economy (a Tom Petty song rarely made it past the four-minute mark) and the sweet spot it deeply satisfied over and over, were hallmarks of pop.\\nMr. Petty\\u2019s nuttiest contribution to the video era was \\u201cDon\\u2019t Come Around Here No More,\\u201d from 1985. It riffs on the Mad Hatter\\u2019s tea party from \\u201cAlice in Wonderland\\u201d with Mr. Petty as the Hatter. The props (edible teacups, mushroom tuffets) and costumes were surreally proportioned and druggie. Mr. Petty briefly either shrinks inside his outfit or his clothes turn enormous. But what\\u2019s freaky about the clip is what a creep he pretends to be, leaping from one end of the enormous dining table to where Alice sits at the other and appearing to chase her around the checkerboard set.\\nEventually, she\\u2019s trapped in the teacup and her body turns into a cake that the band and the Hatter all find good enough to eat. So they hack into her. In the final shot, the camera pans from a screaming Alice to a close-up of Mr. Petty gobbling her up. He wears the same bemused expression the entire time and, courtesy of his sunglasses, never lets you see his eyes. He was opium-den Willy Wonka. It was a look he\\u2019d often return to.\\nNewsletter Sign Up Continue reading the main story Sign Up for the Louder Newsletter Every week, stay on top of the latest in pop and jazz with reviews, interviews, podcasts and more from The New York Times music critics. Please verify you're not a robot by clicking the box. Invalid email address. Please re-enter. You must select a newsletter to subscribe to. Sign Up You agree to receive occasional updates and special offers for The New York Times's products and services. Thank you for subscribing. An error has occurred. Please try again later. View all New York Times newsletters.\\nIf \\u201cDon\\u2019t Come Around Here\\u201d is your second or third Tom Petty music-video experience, it may have been formative. Michael Jackson was a werewolf-zombie. Madonna rolled around in gondolas. Prince did splits. Tom Petty ate people. I always found that funny given how little his face appeared to do. You\\u2019d watch these videos and wonder how such a pleasingly distinctive sound could come out of a mouth that never seemed to open.\\nMr. Petty\\u2019s approach to being on MTV was not to take it more seriously than he had to. His sense of frivolity came with a coating of stranger-danger. \\u201cI Won\\u2019t Back Down\\u201d kicks off with him, still outfitted like the Mad Hatter, lifting the lid of a gift box. The camera peers inside, revealing Mr. Petty and a band playing the song on a stark, black set. Before the guitars start to cry and chug, there\\u2019s a natural studio silence that always terrified me. Who knows why? But some of it is the dark-magician he\\u2019d styled himself as.\\nThe hat and the shades seemed to keep him in disguise. It took a long time to remember that when his career in music videos started \\u2014 with \\u201cRefugee,\\u201d to pick one hypnotically shabby-looking performance \\u2014 he looked like the average girl\\u2019s prom date: cuter than you thought. By the time of \\u201cInto the Great Wide Open,\\u201d from 1991, Mr. Petty wore another ridiculous hat and wire-rimmed glasses. This time the Mad Hatter was an omniscient narrator of the song\\u2019s music-biz blues. It\\u2019s an imaginative, fitfully humorous literalizing of the song. Johnny Depp plays Eddie, a clich\\u00e9 rock star, and Faye Dunaway has a ball portraying his back-stabbed manager. (Mr. Petty himself takes on about four different parts.) The music-video veteran Julian Temple directed it, and he worked with a poignant tinge of bloat. Accordingly to Mr. Petty, in Peter Bogdanovich\\u2019s exhaustingly thorough documentary, \\u201cRunnin\\u2019 Down a Dream,\\u201d Mr. Temple originally shot a 17-minute version.\\nThe videos got at a kind of truth about Mr. Petty. Lots of his songs featured power contests between himself and unspecified forces, like record labels. Commands like \\u201cdon\\u2019t,\\u201d \\u201cwon\\u2019t,\\u201d \\u201cstop\\u201d and \\u201cquit\\u201d recur. Maybe some of the clips were a fantasy of a straightforward control he struggled for in his music. Of course, as a listener, you often heard struggle\\u2019s opposite. You felt the joy of the music\\u2019s thrum and jangle. The songs took three-chord structure and made little origami. In videos, he never seemed impressed.\\nAdvertisement Continue reading the main story\\nThat was the other thing about them. Watching them was an exercise in cognitive dissonance. For the dramatization of the ecstasy a listener feels hearing a Tom Petty song, you had to go to the movies. You had to see Tom Cruise, in Cameron Crowe\\u2019s \\u201cJerry Maguire,\\u201d searching a car radio for a song that matched his money-loving mood, settling on \\u201cFree Fallin.\\u2019\\u201d It\\u2019s one of the most casually human things Mr. Cruise has done in a movie. He practically hits the roof of his car by the time the chorus comes around.\\nJerry, of course, is hearing the bright side of a song whose sense of loneliness never occurs to Mr. Cruise. But the movie gets the irony that, really, Jerry is, Wile E. Coyote, out of road to run.\\nThen there\\u2019s Brooke Smith in Jonathan Demme\\u2019s \\u201cThe Silence of the Lambs,\\u201d rocking out to \\u201cAmerican Girl.\\u201d There\\u2019s only one way to experience this song, and Smith\\u2019s is it: pounding on the steering wheel. Mr. Petty really is one of those artists who makes you feel like you could drive a car forever. Smith\\u2019s character is about to be beaten unconscious, trapped in a van and made to live at the bottom of a dry well. But for a brief moment, she\\u2019s happy, feeling the opposite of what Mr. Petty\\u2019s song is actually about: letdowns.\\nThat, of course, was his cleverness as a writer. He wrote major-key bummers. A listener didn\\u2019t know what was hitting him until he knew. Obviously, Mr. Petty knew. The young me was never ready for those old Petty videos. To a kid, that Wile E. Coyote feeling describes a cartoon. For everybody else, it\\u2019s just life.\",\n          \"European officials are increasingly trying to counter that narrative.\\nOn Wednesday, Margrethe Vestager, the European Union\\u2019s competition commissioner, ordered Luxembourg to collect around 250 million euros, or about $293 million, in unpaid taxes from Amazon. The ruling was tied to an agreement between the country and the company that the European Commission, the bloc\\u2019s executive arm, said dated to 2003.\\nThe order resembles a similar move the commission made last year, when it directed Ireland to reclaim around $15.2 billion from Apple.\\nIreland fears that such a decision could make it a less attractive place for multinational companies. In a sign of the disquiet in Dublin about that order, the Irish government failed to meet a January deadline to collect the money. It has appealed the ruling.\\nThat earned Ireland a forceful rebuke from Ms. Vestager.\\nA year later, \\u201cIreland has not recovered any money, not even in part,\\u201d she said, warning the country to accelerate its efforts to avoid \\u201cmore conflictual waters,\\u201d a reference to the prospects for a lengthy court battle.\\nAlthough litigation to force Ireland to recoup the taxes could drag on for years, the commission has successfully sued countries in the past and punished them with large fines for failing to recover money from companies that received illegal state aid.\\nAt the time of the ruling, Europe\\u2019s competition watchdogs said that Apple\\u2019s arrangements with Dublin were illegal and had ensured the iPhone maker paid virtually nothing on its European business in some years. Brussels argued that the deals allowed Apple to funnel profit from two Irish subsidiaries to an office in which it had \\u201cno employees, no premises, no real activities.\\u201d\\nThe Irish Department of Finance said that it \\u201chas never accepted the commission\\u2019s analysis\\u201d in the Apple case and that it was taken aback by Ms. Vestager\\u2019s decision to take the country to court. The department said it had \\u201cmade significant progress on this complex issue\\u201d and accused the European authorities of taking a \\u201cwholly unnecessary step.\\u201d\\nAdvertisement Continue reading the main story\\nApple did not immediately comment on the latest move, but has criticized the ruling in the past. The original decision has also drawn the ire of the United States Treasury Department.\\nNewsletter Sign Up Continue reading the main story Please verify you're not a robot by clicking the box. Invalid email address. Please re-enter. You must select a newsletter to subscribe to. Sign Up You agree to receive occasional updates and special offers for The New York Times's products and services. Thank you for subscribing. An error has occurred. Please try again later. View all New York Times newsletters.\\nIn the case of Amazon, the commission said Wednesday that Luxembourg had reduced its tax bill for more than eight years, from 2006 to 2014, and had conferred on the company a selective advantage. The arrangement essentially capped the amount of tax that the retailer paid, and relied on a method known as transfer pricing.\\nTypically, transfer pricing has been used by companies to assign revenues and profits to different business units depending on their location, role in the overall company and assets. But that system is harder to police with technology companies because many of their biggest assets, like intellectual property, are intangible. The European Commission said that Amazon had abused this system by sending most of its European revenue to a Luxembourg subsidiary that was not liable to pay corporate tax, helping the company cut its overall bill.\\nMs. Vestager said the arrangement had \\u201cno valid economic justification\\u201d and that the company had been able to \\u201cavoid taxation on almost three quarters of the profits it made from all Amazon sales in the E.U.\\u201d\\nAmazon and Luxembourg have denied the charges.\\n\\u201cWe believe that Amazon did not receive any special treatment from Luxembourg,\\u201d the company said in a statement on Wednesday, adding that it \\u201cpaid tax in full accordance with both Luxembourg and international tax law.\\u201d\\nAmazon said it would study the commission\\u2019s ruling and was considering whether to appeal.\\nIn a statement, Luxembourg\\u2019s finance ministry also contested Ms. Vestager\\u2019s ruling. \\u201cAs Amazon has been taxed in accordance with the tax rules applicable at the relevant time, Luxembourg considers that the company has not been granted incompatible state aid,\\u201d it said.\\nIt is not illegal in the European Union for member states to attempt to lure businesses by lowering corporate tax rates. But, as with Amazon\\u2019s agreement with Luxembourg, offering special deals to select companies that are not made available to rivals can amount to \\u201cillegal state aid.\\u201d\\nThe investigations are among several in which commission officials have looked into the affairs of Silicon Valley companies. Regulators in Brussels are challenging Google and Qualcomm over alleged antitrust violations, and officials in various countries have investigated Facebook over its handling of customers\\u2019 data.\\nMs. Vestager has made taxes a priority of her term as Europe\\u2019s competition commissioner. In that time, she has penalized Starbucks in the Netherlands and Anheuser-Busch InBev in Belgium. But Luxembourg has been a particular target: In 2015, she told the country to claw back about \\u20ac30 million from a Fiat Chrysler unit, while a case considering Luxembourg\\u2019s treatment of McDonald\\u2019s is also continuing.\\nAdvertisement Continue reading the main story\\n\\u201cI don\\u2019t think that we\\u2019re done,\\u201d Ms. Vestager said on Wednesday, adding that new laws were also necessary. \\u201cThe main part of the solution is of course that we have legislation that gives you a transparent tax landscape and enables national tax authorities to do their job.\\u201d\\nA broader overhaul may be afoot. The European Commission published proposals last month under which internet companies would be taxed in the countries where they generated revenue. Such a shift would mean the companies could not move their profits to jurisdictions with lower taxes.\\nA push in that direction could, however, prove complicated and carries several risks, said Clemens Fuest, the director of the Ifo Institute for Economic Research, a prominent think tank in Germany. In particular, European governments still might devise a host of new incentives to lure investment, while legislative changes at the European level could prompt retaliation by major trading partners.\\n\\u201cThere are real dangers if Brussels keeps acting unilaterally,\\u201d Mr. Fuest said.\\nThe European Union stepped up efforts to curb tax avoidance by companies and by individuals after the financial crisis, which forced many of the bloc\\u2019s member states to cut public services and raise tax rates. But opponents of the austerity programs argued that big corporations had not faced the same pressures, partly because they have long been able to shift their profits to low-tax countries.\"\n        ],\n        \"semantic_type\": \"\",\n        \"description\": \"\"\n      }\n    },\n    {\n      \"column\": \"Label\",\n      \"properties\": {\n        \"dtype\": \"number\",\n        \"std\": 0,\n        \"min\": 0,\n        \"max\": 1,\n        \"num_unique_values\": 2,\n        \"samples\": [\n          0,\n          1\n        ],\n        \"semantic_type\": \"\",\n        \"description\": \"\"\n      }\n    }\n  ]\n}"
            }
          },
          "metadata": {},
          "execution_count": 40
        }
      ]
    },
    {
      "cell_type": "code",
      "source": [
        "df.tail() # last 5 rows"
      ],
      "metadata": {
        "colab": {
          "base_uri": "https://localhost:8080/",
          "height": 293
        },
        "id": "iP70AIdfDANf",
        "outputId": "d4bd0598-d5f7-4be3-bb95-5f2e1f54e761"
      },
      "execution_count": 41,
      "outputs": [
        {
          "output_type": "execute_result",
          "data": {
            "text/plain": [
              "                                                   URLs  \\\n",
              "4004  http://beforeitsnews.com/sports/2017/09/trends...   \n",
              "4005  http://beforeitsnews.com/u-s-politics/2017/10/...   \n",
              "4006  https://www.activistpost.com/2017/09/ron-paul-...   \n",
              "4007  https://www.reuters.com/article/us-china-pharm...   \n",
              "4008  http://beforeitsnews.com/u-s-politics/2017/10/...   \n",
              "\n",
              "                                               Headline  \\\n",
              "4004                                    Trends to Watch   \n",
              "4005  Trump Jr. Is Soon To Give A 30-Minute Speech F...   \n",
              "4006        Ron Paul on Trump, Anarchism & the AltRight   \n",
              "4007  China to accept overseas trial data in bid to ...   \n",
              "4008  Vice President Mike Pence Leaves NFL Game Beca...   \n",
              "\n",
              "                                                   Body  Label  \n",
              "4004  Trends to Watch\\n% of readers think this story...      0  \n",
              "4005  Trump Jr. Is Soon To Give A 30-Minute Speech F...      0  \n",
              "4006                                                NaN      0  \n",
              "4007  SHANGHAI (Reuters) - China said it plans to ac...      1  \n",
              "4008  Vice President Mike Pence Leaves NFL Game Beca...      0  "
            ],
            "text/html": [
              "\n",
              "  <div id=\"df-91ea2f0d-b2d9-4372-8d5f-7eb8cca4216f\" class=\"colab-df-container\">\n",
              "    <div>\n",
              "<style scoped>\n",
              "    .dataframe tbody tr th:only-of-type {\n",
              "        vertical-align: middle;\n",
              "    }\n",
              "\n",
              "    .dataframe tbody tr th {\n",
              "        vertical-align: top;\n",
              "    }\n",
              "\n",
              "    .dataframe thead th {\n",
              "        text-align: right;\n",
              "    }\n",
              "</style>\n",
              "<table border=\"1\" class=\"dataframe\">\n",
              "  <thead>\n",
              "    <tr style=\"text-align: right;\">\n",
              "      <th></th>\n",
              "      <th>URLs</th>\n",
              "      <th>Headline</th>\n",
              "      <th>Body</th>\n",
              "      <th>Label</th>\n",
              "    </tr>\n",
              "  </thead>\n",
              "  <tbody>\n",
              "    <tr>\n",
              "      <th>4004</th>\n",
              "      <td>http://beforeitsnews.com/sports/2017/09/trends...</td>\n",
              "      <td>Trends to Watch</td>\n",
              "      <td>Trends to Watch\\n% of readers think this story...</td>\n",
              "      <td>0</td>\n",
              "    </tr>\n",
              "    <tr>\n",
              "      <th>4005</th>\n",
              "      <td>http://beforeitsnews.com/u-s-politics/2017/10/...</td>\n",
              "      <td>Trump Jr. Is Soon To Give A 30-Minute Speech F...</td>\n",
              "      <td>Trump Jr. Is Soon To Give A 30-Minute Speech F...</td>\n",
              "      <td>0</td>\n",
              "    </tr>\n",
              "    <tr>\n",
              "      <th>4006</th>\n",
              "      <td>https://www.activistpost.com/2017/09/ron-paul-...</td>\n",
              "      <td>Ron Paul on Trump, Anarchism &amp; the AltRight</td>\n",
              "      <td>NaN</td>\n",
              "      <td>0</td>\n",
              "    </tr>\n",
              "    <tr>\n",
              "      <th>4007</th>\n",
              "      <td>https://www.reuters.com/article/us-china-pharm...</td>\n",
              "      <td>China to accept overseas trial data in bid to ...</td>\n",
              "      <td>SHANGHAI (Reuters) - China said it plans to ac...</td>\n",
              "      <td>1</td>\n",
              "    </tr>\n",
              "    <tr>\n",
              "      <th>4008</th>\n",
              "      <td>http://beforeitsnews.com/u-s-politics/2017/10/...</td>\n",
              "      <td>Vice President Mike Pence Leaves NFL Game Beca...</td>\n",
              "      <td>Vice President Mike Pence Leaves NFL Game Beca...</td>\n",
              "      <td>0</td>\n",
              "    </tr>\n",
              "  </tbody>\n",
              "</table>\n",
              "</div>\n",
              "    <div class=\"colab-df-buttons\">\n",
              "\n",
              "  <div class=\"colab-df-container\">\n",
              "    <button class=\"colab-df-convert\" onclick=\"convertToInteractive('df-91ea2f0d-b2d9-4372-8d5f-7eb8cca4216f')\"\n",
              "            title=\"Convert this dataframe to an interactive table.\"\n",
              "            style=\"display:none;\">\n",
              "\n",
              "  <svg xmlns=\"http://www.w3.org/2000/svg\" height=\"24px\" viewBox=\"0 -960 960 960\">\n",
              "    <path d=\"M120-120v-720h720v720H120Zm60-500h600v-160H180v160Zm220 220h160v-160H400v160Zm0 220h160v-160H400v160ZM180-400h160v-160H180v160Zm440 0h160v-160H620v160ZM180-180h160v-160H180v160Zm440 0h160v-160H620v160Z\"/>\n",
              "  </svg>\n",
              "    </button>\n",
              "\n",
              "  <style>\n",
              "    .colab-df-container {\n",
              "      display:flex;\n",
              "      gap: 12px;\n",
              "    }\n",
              "\n",
              "    .colab-df-convert {\n",
              "      background-color: #E8F0FE;\n",
              "      border: none;\n",
              "      border-radius: 50%;\n",
              "      cursor: pointer;\n",
              "      display: none;\n",
              "      fill: #1967D2;\n",
              "      height: 32px;\n",
              "      padding: 0 0 0 0;\n",
              "      width: 32px;\n",
              "    }\n",
              "\n",
              "    .colab-df-convert:hover {\n",
              "      background-color: #E2EBFA;\n",
              "      box-shadow: 0px 1px 2px rgba(60, 64, 67, 0.3), 0px 1px 3px 1px rgba(60, 64, 67, 0.15);\n",
              "      fill: #174EA6;\n",
              "    }\n",
              "\n",
              "    .colab-df-buttons div {\n",
              "      margin-bottom: 4px;\n",
              "    }\n",
              "\n",
              "    [theme=dark] .colab-df-convert {\n",
              "      background-color: #3B4455;\n",
              "      fill: #D2E3FC;\n",
              "    }\n",
              "\n",
              "    [theme=dark] .colab-df-convert:hover {\n",
              "      background-color: #434B5C;\n",
              "      box-shadow: 0px 1px 3px 1px rgba(0, 0, 0, 0.15);\n",
              "      filter: drop-shadow(0px 1px 2px rgba(0, 0, 0, 0.3));\n",
              "      fill: #FFFFFF;\n",
              "    }\n",
              "  </style>\n",
              "\n",
              "    <script>\n",
              "      const buttonEl =\n",
              "        document.querySelector('#df-91ea2f0d-b2d9-4372-8d5f-7eb8cca4216f button.colab-df-convert');\n",
              "      buttonEl.style.display =\n",
              "        google.colab.kernel.accessAllowed ? 'block' : 'none';\n",
              "\n",
              "      async function convertToInteractive(key) {\n",
              "        const element = document.querySelector('#df-91ea2f0d-b2d9-4372-8d5f-7eb8cca4216f');\n",
              "        const dataTable =\n",
              "          await google.colab.kernel.invokeFunction('convertToInteractive',\n",
              "                                                    [key], {});\n",
              "        if (!dataTable) return;\n",
              "\n",
              "        const docLinkHtml = 'Like what you see? Visit the ' +\n",
              "          '<a target=\"_blank\" href=https://colab.research.google.com/notebooks/data_table.ipynb>data table notebook</a>'\n",
              "          + ' to learn more about interactive tables.';\n",
              "        element.innerHTML = '';\n",
              "        dataTable['output_type'] = 'display_data';\n",
              "        await google.colab.output.renderOutput(dataTable, element);\n",
              "        const docLink = document.createElement('div');\n",
              "        docLink.innerHTML = docLinkHtml;\n",
              "        element.appendChild(docLink);\n",
              "      }\n",
              "    </script>\n",
              "  </div>\n",
              "\n",
              "\n",
              "    <div id=\"df-97b7d362-bdfa-468c-9f02-080039990f64\">\n",
              "      <button class=\"colab-df-quickchart\" onclick=\"quickchart('df-97b7d362-bdfa-468c-9f02-080039990f64')\"\n",
              "                title=\"Suggest charts\"\n",
              "                style=\"display:none;\">\n",
              "\n",
              "<svg xmlns=\"http://www.w3.org/2000/svg\" height=\"24px\"viewBox=\"0 0 24 24\"\n",
              "     width=\"24px\">\n",
              "    <g>\n",
              "        <path d=\"M19 3H5c-1.1 0-2 .9-2 2v14c0 1.1.9 2 2 2h14c1.1 0 2-.9 2-2V5c0-1.1-.9-2-2-2zM9 17H7v-7h2v7zm4 0h-2V7h2v10zm4 0h-2v-4h2v4z\"/>\n",
              "    </g>\n",
              "</svg>\n",
              "      </button>\n",
              "\n",
              "<style>\n",
              "  .colab-df-quickchart {\n",
              "      --bg-color: #E8F0FE;\n",
              "      --fill-color: #1967D2;\n",
              "      --hover-bg-color: #E2EBFA;\n",
              "      --hover-fill-color: #174EA6;\n",
              "      --disabled-fill-color: #AAA;\n",
              "      --disabled-bg-color: #DDD;\n",
              "  }\n",
              "\n",
              "  [theme=dark] .colab-df-quickchart {\n",
              "      --bg-color: #3B4455;\n",
              "      --fill-color: #D2E3FC;\n",
              "      --hover-bg-color: #434B5C;\n",
              "      --hover-fill-color: #FFFFFF;\n",
              "      --disabled-bg-color: #3B4455;\n",
              "      --disabled-fill-color: #666;\n",
              "  }\n",
              "\n",
              "  .colab-df-quickchart {\n",
              "    background-color: var(--bg-color);\n",
              "    border: none;\n",
              "    border-radius: 50%;\n",
              "    cursor: pointer;\n",
              "    display: none;\n",
              "    fill: var(--fill-color);\n",
              "    height: 32px;\n",
              "    padding: 0;\n",
              "    width: 32px;\n",
              "  }\n",
              "\n",
              "  .colab-df-quickchart:hover {\n",
              "    background-color: var(--hover-bg-color);\n",
              "    box-shadow: 0 1px 2px rgba(60, 64, 67, 0.3), 0 1px 3px 1px rgba(60, 64, 67, 0.15);\n",
              "    fill: var(--button-hover-fill-color);\n",
              "  }\n",
              "\n",
              "  .colab-df-quickchart-complete:disabled,\n",
              "  .colab-df-quickchart-complete:disabled:hover {\n",
              "    background-color: var(--disabled-bg-color);\n",
              "    fill: var(--disabled-fill-color);\n",
              "    box-shadow: none;\n",
              "  }\n",
              "\n",
              "  .colab-df-spinner {\n",
              "    border: 2px solid var(--fill-color);\n",
              "    border-color: transparent;\n",
              "    border-bottom-color: var(--fill-color);\n",
              "    animation:\n",
              "      spin 1s steps(1) infinite;\n",
              "  }\n",
              "\n",
              "  @keyframes spin {\n",
              "    0% {\n",
              "      border-color: transparent;\n",
              "      border-bottom-color: var(--fill-color);\n",
              "      border-left-color: var(--fill-color);\n",
              "    }\n",
              "    20% {\n",
              "      border-color: transparent;\n",
              "      border-left-color: var(--fill-color);\n",
              "      border-top-color: var(--fill-color);\n",
              "    }\n",
              "    30% {\n",
              "      border-color: transparent;\n",
              "      border-left-color: var(--fill-color);\n",
              "      border-top-color: var(--fill-color);\n",
              "      border-right-color: var(--fill-color);\n",
              "    }\n",
              "    40% {\n",
              "      border-color: transparent;\n",
              "      border-right-color: var(--fill-color);\n",
              "      border-top-color: var(--fill-color);\n",
              "    }\n",
              "    60% {\n",
              "      border-color: transparent;\n",
              "      border-right-color: var(--fill-color);\n",
              "    }\n",
              "    80% {\n",
              "      border-color: transparent;\n",
              "      border-right-color: var(--fill-color);\n",
              "      border-bottom-color: var(--fill-color);\n",
              "    }\n",
              "    90% {\n",
              "      border-color: transparent;\n",
              "      border-bottom-color: var(--fill-color);\n",
              "    }\n",
              "  }\n",
              "</style>\n",
              "\n",
              "      <script>\n",
              "        async function quickchart(key) {\n",
              "          const quickchartButtonEl =\n",
              "            document.querySelector('#' + key + ' button');\n",
              "          quickchartButtonEl.disabled = true;  // To prevent multiple clicks.\n",
              "          quickchartButtonEl.classList.add('colab-df-spinner');\n",
              "          try {\n",
              "            const charts = await google.colab.kernel.invokeFunction(\n",
              "                'suggestCharts', [key], {});\n",
              "          } catch (error) {\n",
              "            console.error('Error during call to suggestCharts:', error);\n",
              "          }\n",
              "          quickchartButtonEl.classList.remove('colab-df-spinner');\n",
              "          quickchartButtonEl.classList.add('colab-df-quickchart-complete');\n",
              "        }\n",
              "        (() => {\n",
              "          let quickchartButtonEl =\n",
              "            document.querySelector('#df-97b7d362-bdfa-468c-9f02-080039990f64 button');\n",
              "          quickchartButtonEl.style.display =\n",
              "            google.colab.kernel.accessAllowed ? 'block' : 'none';\n",
              "        })();\n",
              "      </script>\n",
              "    </div>\n",
              "\n",
              "    </div>\n",
              "  </div>\n"
            ],
            "application/vnd.google.colaboratory.intrinsic+json": {
              "type": "dataframe",
              "summary": "{\n  \"name\": \"df\",\n  \"rows\": 5,\n  \"fields\": [\n    {\n      \"column\": \"URLs\",\n      \"properties\": {\n        \"dtype\": \"string\",\n        \"num_unique_values\": 5,\n        \"samples\": [\n          \"http://beforeitsnews.com/u-s-politics/2017/10/trump-jr-is-soon-to-give-a-30-minute-speech-for-100000-2537423.html\\r\\n\",\n          \"http://beforeitsnews.com/u-s-politics/2017/10/vice-president-mike-pence-leaves-nfl-game-because-of-anti-american-protests-2537585.html\\r\\n\",\n          \"https://www.activistpost.com/2017/09/ron-paul-trump-anarchism-altright.html\\r\\n\"\n        ],\n        \"semantic_type\": \"\",\n        \"description\": \"\"\n      }\n    },\n    {\n      \"column\": \"Headline\",\n      \"properties\": {\n        \"dtype\": \"string\",\n        \"num_unique_values\": 5,\n        \"samples\": [\n          \"Trump Jr. Is Soon To Give A 30-Minute Speech For $100,000\",\n          \"Vice President Mike Pence Leaves NFL Game Because of Anti-American Protests\",\n          \"Ron Paul on Trump, Anarchism & the AltRight\"\n        ],\n        \"semantic_type\": \"\",\n        \"description\": \"\"\n      }\n    },\n    {\n      \"column\": \"Body\",\n      \"properties\": {\n        \"dtype\": \"string\",\n        \"num_unique_values\": 4,\n        \"samples\": [\n          \"Trump Jr. Is Soon To Give A 30-Minute Speech For $100,000\\n% of readers think this story is Fact. Add your two cents.\\n(Before It's News)\\nDonald Trump Jr. is being paid $100,000 to give a speech at a Texas university. The fee is double what he made when his father was not the president.\\nSource: http://www.carbonated.tv/news/trump-jr-hundred-thousand-dollar-speech-university-north-texas\",\n          \"Vice President Mike Pence Leaves NFL Game Because of Anti-American Protests\\n% of readers think this story is Fact. Add your two cents.\\n(Before It's News)\\nBy Donn Marten -\\nVice President Mike Pence was to have attended today\\u2019s National Football League game between the Indianapolis Colts and San Francisco 49ers but chose to leave after several players chose to use his presence to make an anti-American political statement.\\nCDN \\u2013 http://www.conservativedailynews.com\\nThe Colts were to have honored longtime player and future Hall of Fame quarterback Peyton Manning during a ceremony but while the home team respected the flag by standing, the actions of the opposing San Francisco 49ers were seen as sufficiently disrespectful to the Veep that he departed the venue before kickoff.\\nAs reported by Indianapolis Fox affiliate Fox 59 \\u201cVP Mike Pence leaves Colts game because 49ers players knelt during anthem\\u201d:\\nVice President Mike Pence decided to leave the Indianapolis Colts game Sunday because some 49ers players knelt during the national anthem. In a tweet, the former Indiana governor said \\u201cI left today\\u2019s Colts game because @POTUS and I will not dignify any event that disrespects our soldiers, our Flag, or our National Anthem.\\u201d Minutes after that tweet, his office released a full statement. \\u201cI left today\\u2019s Colts game because President Trump and I will not dignify any event that disrespects our soldiers, our Flag, or our National Anthem. At a time when so many Americans are inspiring our nation with their courage, resolve, and resilience, now, more than ever, we should rally around our Flag and everything that unites us. While everyone is entitled to their own opinions, I don\\u2019t think it\\u2019s too much to ask NFL players to respect the Flag and our National Anthem. I stand with President Trump, I stand with our soldiers, and I will always stand for our Flag and our National Anthem.\\u201d It was announced Friday that Pence would attend the game with the second lady. The game is special, because Peyton Manning\\u2019s jersey will be retired at halftime and he will be inducted into the Ring of Honor. Before the game, he tweeted that he was looking forward to honor \\u201cthe great career of #18 Peyton Manning.\\u201d Pence\\u2019s actions will no doubt be seized on by those who have polluted the NFL with their racial grievances and hatred of President Trump as \\u201cproof\\u201d that he stands for white supremacy and Nazism but he was dead right to leave and many of the other fans in attendance should have done so as well instead of being subjected to the politics of radical leftist racial grievance mongers that have driven the league\\u2019s popularity to historic lows.\\nThe Vice President expressed the following via Twitter:\\n52m Vice President Pence \\u2714@VP Replying to @VP While everyone is entitled to their own opinions, I don\\u2019t think it\\u2019s too much to ask NFL players to respect the Flag and our National Anthem\\nVice President Pence \\u2714@VP I left today\\u2019s Colts game because @POTUS and I will not dignify any event that disrespects our soldiers, our Flag, or our National Anthem. 11:08 AM \\u2013 Oct 8, 2017\\nPence was formerly the Governor of Indiana.\\nIt\\u2019s just what the NFL needed too, even more negative publicity before the early games even kicked off.\\nREAD MORE\\nVice President Mike Pence Leaves NFL Game Because of Anti-American Protests is original content from Conservative Daily News \\u2013 Conservative Daily News \\u2013 Where Americans go for news, current events and commentary they can trust.\\nCDN \\u2013 http://www.conservativedailynews.com\\nSource: https://www.conservativedailynews.com/2017/10/vice-president-mike-pence-leaves-nfl-game-anti-american-protests/\",\n          \"Trends to Watch\\n% of readers think this story is Fact. Add your two cents.\\n(Before It's News)\\nOne win doesn\\u2019t change the fact that the team is still rebuilding and trying to build a young core going forward. But through the first three games there are some trends that bear watching:\\n\\u2013 The offensive staff has shown an ability to adjust on the fly to get the offense stabilized. Whether it\\u2019s been using 6-7 OLinemen to establish the run or TE & FB to chip pass rushers.\\n\\u2013 The OLine (all 28 and under) has been very good in pass protection and improving in run blocking. And the fact that the staff has mixed and matched them in various aliments shows we may actually have depth.\\n\\u2013 The TE position could actually be a big time strength with Seferian-Jenkins, Tye and Leggett (once healthy). The inline blocking of the position has surprised me.\\n\\u2013 The acquisition of Kearse the continued development of Anderson and the flashes Stewart show give me hope for a nice corps of WR. But the staff MUST use Stewart & Hansen more, if we have those four and a healthy Enunwa next year we may have something.\\n\\u2013 Forte looks slower than last year, Powell and McGuire need to be the primary RB\\u2019s going forward.\\n\\u2013 Will the defense continue to stay true to their assignments? They absolutely detroyed MIA who has a lot of weapons and a good OLine just by doing their jobs. Can they keep it up? Because it\\u2019s amazing how good our ILB\\u2019s looked once everyone maintained their gaps and tackled. It\\u2019s also crucial because a sound defense allows Adams to be used all over the field as highlighted in Cimini\\u2019s article.\\nJets fans are discussing the trends to watch in our NY Jets forum.\\nYou can discuss this with other NY Jets fans on the Jet Nation message board. Or visit of on Facebook.\\nSource: http://www.jetnation.com/2017/09/25/ny-jets-trends-to-watch/\"\n        ],\n        \"semantic_type\": \"\",\n        \"description\": \"\"\n      }\n    },\n    {\n      \"column\": \"Label\",\n      \"properties\": {\n        \"dtype\": \"number\",\n        \"std\": 0,\n        \"min\": 0,\n        \"max\": 1,\n        \"num_unique_values\": 2,\n        \"samples\": [\n          1,\n          0\n        ],\n        \"semantic_type\": \"\",\n        \"description\": \"\"\n      }\n    }\n  ]\n}"
            }
          },
          "metadata": {},
          "execution_count": 41
        }
      ]
    },
    {
      "cell_type": "code",
      "source": [
        "df.drop(columns='URLs',axis=1,inplace=True) # droping urls"
      ],
      "metadata": {
        "id": "-PQt5q9GDIVp"
      },
      "execution_count": 42,
      "outputs": []
    },
    {
      "cell_type": "code",
      "source": [
        "df['Text']= df['Headline']+df['Body'] # merging headline and body"
      ],
      "metadata": {
        "id": "Tfjj-KArEGy3"
      },
      "execution_count": 43,
      "outputs": []
    },
    {
      "cell_type": "code",
      "source": [
        "df.drop(columns=['Headline','Body'],axis=1,inplace=True)"
      ],
      "metadata": {
        "id": "DBiDhkRZEVpp"
      },
      "execution_count": 44,
      "outputs": []
    },
    {
      "cell_type": "code",
      "source": [
        "df.head()"
      ],
      "metadata": {
        "colab": {
          "base_uri": "https://localhost:8080/",
          "height": 206
        },
        "id": "v_-jdzNREwk6",
        "outputId": "143b643d-921d-4305-a377-df429275f8e0"
      },
      "execution_count": 45,
      "outputs": [
        {
          "output_type": "execute_result",
          "data": {
            "text/plain": [
              "   Label                                               Text\n",
              "0      1  Four ways Bob Corker skewered Donald TrumpImag...\n",
              "1      1  Linklater's war veteran comedy speaks to moder...\n",
              "2      1  Trump’s Fight With Corker Jeopardizes His Legi...\n",
              "3      1  Egypt's Cheiron wins tie-up with Pemex for Mex...\n",
              "4      1  Jason Aldean opens 'SNL' with Vegas tributeCou..."
            ],
            "text/html": [
              "\n",
              "  <div id=\"df-9bc75336-4137-46a0-b9eb-72644bf81f6e\" class=\"colab-df-container\">\n",
              "    <div>\n",
              "<style scoped>\n",
              "    .dataframe tbody tr th:only-of-type {\n",
              "        vertical-align: middle;\n",
              "    }\n",
              "\n",
              "    .dataframe tbody tr th {\n",
              "        vertical-align: top;\n",
              "    }\n",
              "\n",
              "    .dataframe thead th {\n",
              "        text-align: right;\n",
              "    }\n",
              "</style>\n",
              "<table border=\"1\" class=\"dataframe\">\n",
              "  <thead>\n",
              "    <tr style=\"text-align: right;\">\n",
              "      <th></th>\n",
              "      <th>Label</th>\n",
              "      <th>Text</th>\n",
              "    </tr>\n",
              "  </thead>\n",
              "  <tbody>\n",
              "    <tr>\n",
              "      <th>0</th>\n",
              "      <td>1</td>\n",
              "      <td>Four ways Bob Corker skewered Donald TrumpImag...</td>\n",
              "    </tr>\n",
              "    <tr>\n",
              "      <th>1</th>\n",
              "      <td>1</td>\n",
              "      <td>Linklater's war veteran comedy speaks to moder...</td>\n",
              "    </tr>\n",
              "    <tr>\n",
              "      <th>2</th>\n",
              "      <td>1</td>\n",
              "      <td>Trump’s Fight With Corker Jeopardizes His Legi...</td>\n",
              "    </tr>\n",
              "    <tr>\n",
              "      <th>3</th>\n",
              "      <td>1</td>\n",
              "      <td>Egypt's Cheiron wins tie-up with Pemex for Mex...</td>\n",
              "    </tr>\n",
              "    <tr>\n",
              "      <th>4</th>\n",
              "      <td>1</td>\n",
              "      <td>Jason Aldean opens 'SNL' with Vegas tributeCou...</td>\n",
              "    </tr>\n",
              "  </tbody>\n",
              "</table>\n",
              "</div>\n",
              "    <div class=\"colab-df-buttons\">\n",
              "\n",
              "  <div class=\"colab-df-container\">\n",
              "    <button class=\"colab-df-convert\" onclick=\"convertToInteractive('df-9bc75336-4137-46a0-b9eb-72644bf81f6e')\"\n",
              "            title=\"Convert this dataframe to an interactive table.\"\n",
              "            style=\"display:none;\">\n",
              "\n",
              "  <svg xmlns=\"http://www.w3.org/2000/svg\" height=\"24px\" viewBox=\"0 -960 960 960\">\n",
              "    <path d=\"M120-120v-720h720v720H120Zm60-500h600v-160H180v160Zm220 220h160v-160H400v160Zm0 220h160v-160H400v160ZM180-400h160v-160H180v160Zm440 0h160v-160H620v160ZM180-180h160v-160H180v160Zm440 0h160v-160H620v160Z\"/>\n",
              "  </svg>\n",
              "    </button>\n",
              "\n",
              "  <style>\n",
              "    .colab-df-container {\n",
              "      display:flex;\n",
              "      gap: 12px;\n",
              "    }\n",
              "\n",
              "    .colab-df-convert {\n",
              "      background-color: #E8F0FE;\n",
              "      border: none;\n",
              "      border-radius: 50%;\n",
              "      cursor: pointer;\n",
              "      display: none;\n",
              "      fill: #1967D2;\n",
              "      height: 32px;\n",
              "      padding: 0 0 0 0;\n",
              "      width: 32px;\n",
              "    }\n",
              "\n",
              "    .colab-df-convert:hover {\n",
              "      background-color: #E2EBFA;\n",
              "      box-shadow: 0px 1px 2px rgba(60, 64, 67, 0.3), 0px 1px 3px 1px rgba(60, 64, 67, 0.15);\n",
              "      fill: #174EA6;\n",
              "    }\n",
              "\n",
              "    .colab-df-buttons div {\n",
              "      margin-bottom: 4px;\n",
              "    }\n",
              "\n",
              "    [theme=dark] .colab-df-convert {\n",
              "      background-color: #3B4455;\n",
              "      fill: #D2E3FC;\n",
              "    }\n",
              "\n",
              "    [theme=dark] .colab-df-convert:hover {\n",
              "      background-color: #434B5C;\n",
              "      box-shadow: 0px 1px 3px 1px rgba(0, 0, 0, 0.15);\n",
              "      filter: drop-shadow(0px 1px 2px rgba(0, 0, 0, 0.3));\n",
              "      fill: #FFFFFF;\n",
              "    }\n",
              "  </style>\n",
              "\n",
              "    <script>\n",
              "      const buttonEl =\n",
              "        document.querySelector('#df-9bc75336-4137-46a0-b9eb-72644bf81f6e button.colab-df-convert');\n",
              "      buttonEl.style.display =\n",
              "        google.colab.kernel.accessAllowed ? 'block' : 'none';\n",
              "\n",
              "      async function convertToInteractive(key) {\n",
              "        const element = document.querySelector('#df-9bc75336-4137-46a0-b9eb-72644bf81f6e');\n",
              "        const dataTable =\n",
              "          await google.colab.kernel.invokeFunction('convertToInteractive',\n",
              "                                                    [key], {});\n",
              "        if (!dataTable) return;\n",
              "\n",
              "        const docLinkHtml = 'Like what you see? Visit the ' +\n",
              "          '<a target=\"_blank\" href=https://colab.research.google.com/notebooks/data_table.ipynb>data table notebook</a>'\n",
              "          + ' to learn more about interactive tables.';\n",
              "        element.innerHTML = '';\n",
              "        dataTable['output_type'] = 'display_data';\n",
              "        await google.colab.output.renderOutput(dataTable, element);\n",
              "        const docLink = document.createElement('div');\n",
              "        docLink.innerHTML = docLinkHtml;\n",
              "        element.appendChild(docLink);\n",
              "      }\n",
              "    </script>\n",
              "  </div>\n",
              "\n",
              "\n",
              "    <div id=\"df-75eb97d3-bb0f-4a1b-8e82-90c5ffe240fa\">\n",
              "      <button class=\"colab-df-quickchart\" onclick=\"quickchart('df-75eb97d3-bb0f-4a1b-8e82-90c5ffe240fa')\"\n",
              "                title=\"Suggest charts\"\n",
              "                style=\"display:none;\">\n",
              "\n",
              "<svg xmlns=\"http://www.w3.org/2000/svg\" height=\"24px\"viewBox=\"0 0 24 24\"\n",
              "     width=\"24px\">\n",
              "    <g>\n",
              "        <path d=\"M19 3H5c-1.1 0-2 .9-2 2v14c0 1.1.9 2 2 2h14c1.1 0 2-.9 2-2V5c0-1.1-.9-2-2-2zM9 17H7v-7h2v7zm4 0h-2V7h2v10zm4 0h-2v-4h2v4z\"/>\n",
              "    </g>\n",
              "</svg>\n",
              "      </button>\n",
              "\n",
              "<style>\n",
              "  .colab-df-quickchart {\n",
              "      --bg-color: #E8F0FE;\n",
              "      --fill-color: #1967D2;\n",
              "      --hover-bg-color: #E2EBFA;\n",
              "      --hover-fill-color: #174EA6;\n",
              "      --disabled-fill-color: #AAA;\n",
              "      --disabled-bg-color: #DDD;\n",
              "  }\n",
              "\n",
              "  [theme=dark] .colab-df-quickchart {\n",
              "      --bg-color: #3B4455;\n",
              "      --fill-color: #D2E3FC;\n",
              "      --hover-bg-color: #434B5C;\n",
              "      --hover-fill-color: #FFFFFF;\n",
              "      --disabled-bg-color: #3B4455;\n",
              "      --disabled-fill-color: #666;\n",
              "  }\n",
              "\n",
              "  .colab-df-quickchart {\n",
              "    background-color: var(--bg-color);\n",
              "    border: none;\n",
              "    border-radius: 50%;\n",
              "    cursor: pointer;\n",
              "    display: none;\n",
              "    fill: var(--fill-color);\n",
              "    height: 32px;\n",
              "    padding: 0;\n",
              "    width: 32px;\n",
              "  }\n",
              "\n",
              "  .colab-df-quickchart:hover {\n",
              "    background-color: var(--hover-bg-color);\n",
              "    box-shadow: 0 1px 2px rgba(60, 64, 67, 0.3), 0 1px 3px 1px rgba(60, 64, 67, 0.15);\n",
              "    fill: var(--button-hover-fill-color);\n",
              "  }\n",
              "\n",
              "  .colab-df-quickchart-complete:disabled,\n",
              "  .colab-df-quickchart-complete:disabled:hover {\n",
              "    background-color: var(--disabled-bg-color);\n",
              "    fill: var(--disabled-fill-color);\n",
              "    box-shadow: none;\n",
              "  }\n",
              "\n",
              "  .colab-df-spinner {\n",
              "    border: 2px solid var(--fill-color);\n",
              "    border-color: transparent;\n",
              "    border-bottom-color: var(--fill-color);\n",
              "    animation:\n",
              "      spin 1s steps(1) infinite;\n",
              "  }\n",
              "\n",
              "  @keyframes spin {\n",
              "    0% {\n",
              "      border-color: transparent;\n",
              "      border-bottom-color: var(--fill-color);\n",
              "      border-left-color: var(--fill-color);\n",
              "    }\n",
              "    20% {\n",
              "      border-color: transparent;\n",
              "      border-left-color: var(--fill-color);\n",
              "      border-top-color: var(--fill-color);\n",
              "    }\n",
              "    30% {\n",
              "      border-color: transparent;\n",
              "      border-left-color: var(--fill-color);\n",
              "      border-top-color: var(--fill-color);\n",
              "      border-right-color: var(--fill-color);\n",
              "    }\n",
              "    40% {\n",
              "      border-color: transparent;\n",
              "      border-right-color: var(--fill-color);\n",
              "      border-top-color: var(--fill-color);\n",
              "    }\n",
              "    60% {\n",
              "      border-color: transparent;\n",
              "      border-right-color: var(--fill-color);\n",
              "    }\n",
              "    80% {\n",
              "      border-color: transparent;\n",
              "      border-right-color: var(--fill-color);\n",
              "      border-bottom-color: var(--fill-color);\n",
              "    }\n",
              "    90% {\n",
              "      border-color: transparent;\n",
              "      border-bottom-color: var(--fill-color);\n",
              "    }\n",
              "  }\n",
              "</style>\n",
              "\n",
              "      <script>\n",
              "        async function quickchart(key) {\n",
              "          const quickchartButtonEl =\n",
              "            document.querySelector('#' + key + ' button');\n",
              "          quickchartButtonEl.disabled = true;  // To prevent multiple clicks.\n",
              "          quickchartButtonEl.classList.add('colab-df-spinner');\n",
              "          try {\n",
              "            const charts = await google.colab.kernel.invokeFunction(\n",
              "                'suggestCharts', [key], {});\n",
              "          } catch (error) {\n",
              "            console.error('Error during call to suggestCharts:', error);\n",
              "          }\n",
              "          quickchartButtonEl.classList.remove('colab-df-spinner');\n",
              "          quickchartButtonEl.classList.add('colab-df-quickchart-complete');\n",
              "        }\n",
              "        (() => {\n",
              "          let quickchartButtonEl =\n",
              "            document.querySelector('#df-75eb97d3-bb0f-4a1b-8e82-90c5ffe240fa button');\n",
              "          quickchartButtonEl.style.display =\n",
              "            google.colab.kernel.accessAllowed ? 'block' : 'none';\n",
              "        })();\n",
              "      </script>\n",
              "    </div>\n",
              "\n",
              "    </div>\n",
              "  </div>\n"
            ],
            "application/vnd.google.colaboratory.intrinsic+json": {
              "type": "dataframe",
              "variable_name": "df",
              "summary": "{\n  \"name\": \"df\",\n  \"rows\": 4009,\n  \"fields\": [\n    {\n      \"column\": \"Label\",\n      \"properties\": {\n        \"dtype\": \"number\",\n        \"std\": 0,\n        \"min\": 0,\n        \"max\": 1,\n        \"num_unique_values\": 2,\n        \"samples\": [\n          0,\n          1\n        ],\n        \"semantic_type\": \"\",\n        \"description\": \"\"\n      }\n    },\n    {\n      \"column\": \"Text\",\n      \"properties\": {\n        \"dtype\": \"string\",\n        \"num_unique_values\": 3522,\n        \"samples\": [\n          \"9/29 Through the 40s: HBD Cannonball & Paul, Camnitz Clan, Game StoriesNo Getting Around it, The War Is Coming! Trump on Attacking North Korea: \\\"Sorry But Only One Thing Will Work\\\" (Video)\",\n          \"Syrian War - How America Shot Itself in the FootBy Chris Kanthan\\nTotal fiasco. That\\u2019s a quick way to characterize the US adventure in Syria in the last six years. The proxy war not only failed to accomplish its goal \\u2013 removal of Assad \\u2013 it tremendously weakened the US in the Middle East, strengthened its adversaries, and soured its relations with many allies. If it were a movie, America\\u2019s recent Mideast policy would be called, How to Lose a Region in 6 Years; and if it were a book, it would be titled, How to Win Enemies and Lose Influence. To make things worse, globalists have refused to acknowledge their mistakes and are now doubling down on their failed policies.\\nLet\\u2019s start with the claims of all the great pundits, military experts and politicians who have been consistently wrong since 2011.\\nAssad must go; Assad will be gone soon\\nSyrians will rise up against Assad\\nSoldiers from the Syrian Army will desert in masses and overthrow Assad\\nOk, Syrians couldn\\u2019t do it, but surely Al Qaeda will bring down Assad\\nAl Qaeda couldn\\u2019t do it, but ISIS will definitely finish the job\\nThe (good) terrorists will win if they just got more guns and anti-tank missiles\\nLet\\u2019s spend a few more billions of dollars on training and arming the rebels. Victory is near!\\nRussia will never intervene!\\nRussia will lose Crimea and access to the Black Sea!\\nRussia\\u2019s economy is about to collapse because of our sanctions and low oil prices (which we might have rigged)!\\nSyria will become Russia\\u2019s Afghanistan!\\nHumiliating Defeat in Syria\\nEvery one of their predictions and tactics failed. How about their eventual goals behind the Syrian war? Break up Syria into ethnic regions \\u2013 including an extremist Sunni region controlled by Saudi Arabia, build a Qatar oil/gas pipeline thru Syria to Europe, let Israel drill oil in Golan Heights, and kick Russia\\u2019s naval base out of Syria. All those geopolitical goals were blown to smithereens.\\nNot only did they fail in everything, they made things worse. Syria used to be quite pro-West. Before the war, Assad would visit France and the UK, and U.S. leaders such as Nancy Pelosi and Jimmy Carter have visited Syria. But, from now on, Syria will treat the U.S. as public enemy #1 for the foreseeable future.\\nRussia had only mild influence in Syria before. However, now, Russia\\u2019s missile defense systems and military/naval bases have been firmly established in Syria. Basically, the war gave Russians what they could only dream of before.\\nIran & Hezbollah\\nSimilarly, their strategy to contain Iran worked precisely the other way. In their paranoia, Saudi Arabia and Israel thought they could preemptively stop the so-called Shiite Crescent \\u2013 contiguous areas of Iran, Iraq, Syria and Lebanon. Instead, Iran\\u2019s para-military forces and Hezbollah\\u2019s fierce fighters saved Syria from ISIS and Al Qaeda. Thus, Iran and Hezbollah are now adored as heroes in Syria.\\nRegarding Iran, the US policy has also been schizophrenic. Obama\\u2019s lifting of sanctions and the nuclear deal have been followed by intense animosity and saber rattling. Even though Iran has been sticking to its promises, Neocons and the pro-Israeli crowd in Washington are still itching for a war with Iran.\\nIraq\\nIf you thought, \\u201cOkay, at least they didn\\u2019t screw up Iraq,\\u201d you\\u2019d be too optimistic. After the Al Qaeda-ISIS plan failed, Israel is now supporting the formation of Kurdistan \\u2013 essentially the breakup of Iraq. In fact, the Kurds\\u2019 eventual goal is to form a large Kurdistan that would encompass lands from Iran, Iraq, Turkey and Syria. Thus, thanks to Israel, Iraq is aligning itself with Iran and Turkey, and moving away from the US. Iraqi leaders are also flying to Moscow and forging deals with Putin.\\nTurkey\\nOne of the most important Islamic countries in that region is Turkey. It\\u2019s also a NATO member that hosts a strategic NATO military base. For five years it colluded with America and other allies in the proxy war against Syria. Then, in 2016, the CIA pulled a fast one and attempted a military coup to overthrow Erdogan. Embarrassingly, the coup failed. Hence it\\u2019s no surprise that Erdogan flipped 180 degrees and has been warming up to Russia.\\nErdogan has quickly signed many deals with Putin, including Russian pipelines through Black Sea, a Russian nuclear power plant in Turkey, and Russia\\u2019s famous S-400 missile defense systems. (Unlike the American systems, the S-400 will shoot down US missiles and planes). Erdogan has visited Tehran (Iran\\u2019s capital) and received Putin in Turkey in the last year, and has made it quite clear that he\\u2019s not firmly in the US sphere of influence anymore.\\nTo make things worse, the Turkey-US relations are deteriorating every day. Just this week, Turkey arrested an employee at the US consulate in Istanbul, after accusing him of being a spy who participated in the coup last year. This has led to both countries suspending visa services in their consulates.\\nTurkey is also working out military and economic deals with Iran. Those two have even agreed to forego the US dollar and conduct their trades in local currencies.\\nAs I explain in my book, Syria \\u2013 War of Deception, the US needs Turkey for numerous geopolitical reasons, including gaining influence in Central Asia to slow down China\\u2019s rising power.\\nQatar and Saudi Arabia\\nNot content with this chaos, globalists have also managed to engineer a conflict between Saudi Arabia and Qatar, both hosts of large US military bases. Having your friends fight against each other weakens your alliance \\u2013 this is Geopolitics 101. Right after Trump\\u2019s visit to Saudi Arabia, the Saudis initiated a land/air blockade of Qatar. Guess who\\u2019s been providing food and other essentials to Qatar for the last few months? Iran and Turkey.\\nQatar has also been bonding with Russia and China. It bought 16% of Russia\\u2019s oil giant (Rosneft) and then sold it to China. Qatar is also conducting a lot of business with China in Yuan, foregoing the almighty US dollar. Thus you can add Qatar to another US ally who has learned to share their loyalty with the enemies of the US.\\nIf all of that sound bad, Saudi Arabia\\u2019s King made a historic visit to Russia in October and signed several deals with Putin to stabilize oil price and purchase Russia\\u2019s missile defense system. This is amazing for many reasons. Saudi Arabia and Russia have been bitter enemies for decades. The Saudis funded the Mujahideen in Afghanistan that defeated the USSR; then they funded Islamic terrorists in Chechnya that caused enormous problems and humiliation for Russia in the 1990s; and the Saudis funded Al Qaeda and ISIS in Syria. Saudi Arabia is also an American vassal state that plays a key role in the maintenance of petrodollar. If Saudi Arabia decides to sell oil in other currencies or gold, the US dollar would be decimated. Given all that and Russia\\u2019s alliance with Iran (Saudi\\u2019s nemesis), one can see how monumental the new Saudi-Russia partnership is.\\nConclusion\\nThe US foreign policy worked well in the era of Cold War when alliances were binary and US allies had nowhere to go. However, the Syrian war revealed that the US is not the only sheriff in town \\u2013 Russia and China are playing lead roles in global geopolitics. The US needs to learn the art of diplomacy. Instead of spending a lot of time constantly demonizing and threatening other countries, the US foreign policy must focus on quietly working out deals behind the scenes. Finally, the US must accept a multipolar world where other nations are treated as partners and not as vassal states.\\nChris Kanthan is the author of a new book, Syria \\u2013 War of Deception. It\\u2019s available in a condensed as well as a longer version. Chris lives in the San Francisco Bay Area, has traveled to 35 countries, and writes about world affairs, politics, economy and health. His other book is Deconstructing Monsanto.\"\n        ],\n        \"semantic_type\": \"\",\n        \"description\": \"\"\n      }\n    }\n  ]\n}"
            }
          },
          "metadata": {},
          "execution_count": 45
        }
      ]
    },
    {
      "cell_type": "code",
      "source": [
        "df.isnull().sum() # checking null values"
      ],
      "metadata": {
        "colab": {
          "base_uri": "https://localhost:8080/",
          "height": 146
        },
        "id": "gu7BvEJSIqNb",
        "outputId": "0279ab93-38ce-4a56-d3d3-1904a8e387b6"
      },
      "execution_count": 46,
      "outputs": [
        {
          "output_type": "execute_result",
          "data": {
            "text/plain": [
              "Label     0\n",
              "Text     21\n",
              "dtype: int64"
            ],
            "text/html": [
              "<div>\n",
              "<style scoped>\n",
              "    .dataframe tbody tr th:only-of-type {\n",
              "        vertical-align: middle;\n",
              "    }\n",
              "\n",
              "    .dataframe tbody tr th {\n",
              "        vertical-align: top;\n",
              "    }\n",
              "\n",
              "    .dataframe thead th {\n",
              "        text-align: right;\n",
              "    }\n",
              "</style>\n",
              "<table border=\"1\" class=\"dataframe\">\n",
              "  <thead>\n",
              "    <tr style=\"text-align: right;\">\n",
              "      <th></th>\n",
              "      <th>0</th>\n",
              "    </tr>\n",
              "  </thead>\n",
              "  <tbody>\n",
              "    <tr>\n",
              "      <th>Label</th>\n",
              "      <td>0</td>\n",
              "    </tr>\n",
              "    <tr>\n",
              "      <th>Text</th>\n",
              "      <td>21</td>\n",
              "    </tr>\n",
              "  </tbody>\n",
              "</table>\n",
              "</div><br><label><b>dtype:</b> int64</label>"
            ]
          },
          "metadata": {},
          "execution_count": 46
        }
      ]
    },
    {
      "cell_type": "code",
      "source": [
        "df=df.dropna() #dropping null values"
      ],
      "metadata": {
        "id": "vlGueTzNKMYL"
      },
      "execution_count": 47,
      "outputs": []
    },
    {
      "cell_type": "markdown",
      "source": [
        "**Downloading stopwords**"
      ],
      "metadata": {
        "id": "GfPVvlOaE-fg"
      }
    },
    {
      "cell_type": "code",
      "source": [
        "import nltk # importing nltk library for text preprocessing\n",
        "nltk.download('stopwords') # importing stop words from library\n",
        "print(stopwords.words('english')) # printing stopwords in imported from library to compare with data"
      ],
      "metadata": {
        "colab": {
          "base_uri": "https://localhost:8080/"
        },
        "id": "Xw8E78spExUV",
        "outputId": "c5dd9ffa-dfba-411e-ff4b-4c7644e468f2"
      },
      "execution_count": 48,
      "outputs": [
        {
          "output_type": "stream",
          "name": "stdout",
          "text": [
            "['a', 'about', 'above', 'after', 'again', 'against', 'ain', 'all', 'am', 'an', 'and', 'any', 'are', 'aren', \"aren't\", 'as', 'at', 'be', 'because', 'been', 'before', 'being', 'below', 'between', 'both', 'but', 'by', 'can', 'couldn', \"couldn't\", 'd', 'did', 'didn', \"didn't\", 'do', 'does', 'doesn', \"doesn't\", 'doing', 'don', \"don't\", 'down', 'during', 'each', 'few', 'for', 'from', 'further', 'had', 'hadn', \"hadn't\", 'has', 'hasn', \"hasn't\", 'have', 'haven', \"haven't\", 'having', 'he', \"he'd\", \"he'll\", 'her', 'here', 'hers', 'herself', \"he's\", 'him', 'himself', 'his', 'how', 'i', \"i'd\", 'if', \"i'll\", \"i'm\", 'in', 'into', 'is', 'isn', \"isn't\", 'it', \"it'd\", \"it'll\", \"it's\", 'its', 'itself', \"i've\", 'just', 'll', 'm', 'ma', 'me', 'mightn', \"mightn't\", 'more', 'most', 'mustn', \"mustn't\", 'my', 'myself', 'needn', \"needn't\", 'no', 'nor', 'not', 'now', 'o', 'of', 'off', 'on', 'once', 'only', 'or', 'other', 'our', 'ours', 'ourselves', 'out', 'over', 'own', 're', 's', 'same', 'shan', \"shan't\", 'she', \"she'd\", \"she'll\", \"she's\", 'should', 'shouldn', \"shouldn't\", \"should've\", 'so', 'some', 'such', 't', 'than', 'that', \"that'll\", 'the', 'their', 'theirs', 'them', 'themselves', 'then', 'there', 'these', 'they', \"they'd\", \"they'll\", \"they're\", \"they've\", 'this', 'those', 'through', 'to', 'too', 'under', 'until', 'up', 've', 'very', 'was', 'wasn', \"wasn't\", 'we', \"we'd\", \"we'll\", \"we're\", 'were', 'weren', \"weren't\", \"we've\", 'what', 'when', 'where', 'which', 'while', 'who', 'whom', 'why', 'will', 'with', 'won', \"won't\", 'wouldn', \"wouldn't\", 'y', 'you', \"you'd\", \"you'll\", 'your', \"you're\", 'yours', 'yourself', 'yourselves', \"you've\"]\n"
          ]
        },
        {
          "output_type": "stream",
          "name": "stderr",
          "text": [
            "[nltk_data] Downloading package stopwords to /root/nltk_data...\n",
            "[nltk_data]   Package stopwords is already up-to-date!\n"
          ]
        }
      ]
    },
    {
      "cell_type": "code",
      "source": [
        "stemmed= PorterStemmer() # storing stemming function in variable"
      ],
      "metadata": {
        "id": "nAUHzLgWGkwp"
      },
      "execution_count": 49,
      "outputs": []
    },
    {
      "cell_type": "code",
      "source": [
        "def cleaned(Text): #creating a function named as cleaned and providing argument as Text\n",
        "  cleaned_text= re.sub('[^a-z A-Z\\s]','',Text) # re function will substitute every thing except upper,lower casealphabets and space\n",
        "  cleaned_text= cleaned_text.lower() # will lower case all alphabets to maintain same format\n",
        "  cleaned_text= cleaned_text.split() # splits the text\n",
        "  cleaned_text= [stemmed.stem(word) for word in cleaned_text if not word in stopwords.words('english')] #applying for loop for stemming the words to their root form and removing stopwords\n",
        "  cleaned_text= ' '.join(cleaned_text) # again joining splited words into single string\n",
        "  return cleaned_text\n"
      ],
      "metadata": {
        "id": "gJixJSu4FYBh"
      },
      "execution_count": 50,
      "outputs": []
    },
    {
      "cell_type": "code",
      "source": [
        "df['Text']= df['Text'].apply(cleaned) # applying function to dataframe Text feature"
      ],
      "metadata": {
        "id": "_eFE3nlSIK0V"
      },
      "execution_count": null,
      "outputs": []
    },
    {
      "cell_type": "markdown",
      "source": [
        "**Separating train and test data**"
      ],
      "metadata": {
        "id": "YS86qKjEMBeo"
      }
    },
    {
      "cell_type": "code",
      "source": [
        "train_data,test_data=train_test_split(df,test_size=0.2,random_state=40)"
      ],
      "metadata": {
        "id": "qPJLdM3pMGWi"
      },
      "execution_count": null,
      "outputs": []
    },
    {
      "cell_type": "code",
      "source": [
        "print(train_data.shape) # checking rows and columns\n",
        "print(test_data.shape)"
      ],
      "metadata": {
        "id": "JlgWOSfoMx78"
      },
      "execution_count": null,
      "outputs": []
    },
    {
      "cell_type": "markdown",
      "source": [
        "**Tokenization**"
      ],
      "metadata": {
        "id": "H55_cWLwL1gJ"
      }
    },
    {
      "cell_type": "code",
      "source": [
        "tokenizer= Tokenizer(num_words=6000) # most frequent common occuring 6000 words while ignoring all other data text\n",
        "tokenized= tokenizer.fit_on_texts(train_data['Text']) # training tokenizer\n",
        "paded_sequence_trained=pad_sequences(tokenizer.texts_to_sequences(train_data['Text']),maxlen=200) # converting text to tokens by tokenization and ensuring same length through padding\n",
        "X_train=paded_sequence_trained\n",
        "paded_sequence_test= pad_sequences(tokenizer.texts_to_sequences(test_data['Text']),maxlen=200) # same on test data\n",
        "X_test= paded_sequence_test"
      ],
      "metadata": {
        "id": "SRNAouxELavc"
      },
      "execution_count": null,
      "outputs": []
    },
    {
      "cell_type": "code",
      "source": [
        "Y_train= train_data['Label'] # creatin target features from splited data\n",
        "Y_test=test_data['Label']"
      ],
      "metadata": {
        "id": "TEAkVm2BQXIv"
      },
      "execution_count": null,
      "outputs": []
    },
    {
      "cell_type": "code",
      "source": [
        "print(X_train)\n",
        "print(X_test)"
      ],
      "metadata": {
        "id": "_El-AdRiQg93"
      },
      "execution_count": null,
      "outputs": []
    },
    {
      "cell_type": "markdown",
      "source": [
        "**Building LSTM Model**"
      ],
      "metadata": {
        "id": "v7hzO4zsTfpM"
      }
    },
    {
      "cell_type": "code",
      "source": [
        "model= Sequential()\n",
        "model.add(Embedding(input_dim=6000,output_dim=256,input_length=200,input_shape=(200,)))\n",
        "model.add(LSTM(256,dropout=0.2,recurrent_dropout=0.2))\n",
        "model.add(Dense(1,activation='sigmoid'))"
      ],
      "metadata": {
        "id": "B-nb_DbHQoNV"
      },
      "execution_count": null,
      "outputs": []
    },
    {
      "cell_type": "code",
      "source": [
        "model.summary()"
      ],
      "metadata": {
        "id": "T_Wj5uzHXM7p"
      },
      "execution_count": null,
      "outputs": []
    },
    {
      "cell_type": "markdown",
      "source": [
        "**Model compiling**"
      ],
      "metadata": {
        "id": "Y-jK-9p0XTkZ"
      }
    },
    {
      "cell_type": "code",
      "source": [
        "model.compile(optimizer='adam',loss='binary_crossentropy',metrics=['accuracy'])"
      ],
      "metadata": {
        "id": "o4oYZ3UnXOKS"
      },
      "execution_count": null,
      "outputs": []
    },
    {
      "cell_type": "markdown",
      "source": [
        "**Model Training**"
      ],
      "metadata": {
        "id": "HFgXubfoYCX-"
      }
    },
    {
      "cell_type": "code",
      "source": [
        "model.fit(X_train,Y_train,epochs=5,batch_size=64,validation_split=0.2)"
      ],
      "metadata": {
        "id": "YtNLcNeHYEod"
      },
      "execution_count": null,
      "outputs": []
    },
    {
      "cell_type": "markdown",
      "source": [
        "**Model Evaluation**"
      ],
      "metadata": {
        "id": "KtZfjqaLYxRC"
      }
    },
    {
      "cell_type": "code",
      "source": [
        "loss,accuracy=model.evaluate(X_test,Y_test)\n",
        "print(f'The accuracy of model is:{accuracy}')\n",
        "print(f'The loss value is:{loss}')"
      ],
      "metadata": {
        "id": "LeJZ2PrxYzpn"
      },
      "execution_count": null,
      "outputs": []
    },
    {
      "cell_type": "markdown",
      "source": [
        "**As we have no information about labels being Fake  and authentic because the dataset is itself encoded already,so I am assuming 0 as authentic and 1 as fake news label, You can change it as per your data set **"
      ],
      "metadata": {
        "id": "D5J7loTp6vBP"
      }
    },
    {
      "cell_type": "markdown",
      "source": [
        "**Building a predictive Syestem**"
      ],
      "metadata": {
        "id": "CFNx1a8WZHTq"
      }
    },
    {
      "cell_type": "code",
      "source": [
        "def predict_news(Text):\n",
        "  tokenized_text= tokenizer.texts_to_sequences(Text)\n",
        "  paded_sequences=pad_sequences(tokenized_text,maxlen=200)\n",
        "  prediction= model.predict(paded_sequences)\n",
        "  news= 'Authentic news' if prediction[0][0] > 0.5 else 'Fake News'\n",
        "  return news\n",
        "\n"
      ],
      "metadata": {
        "id": "rtd_oUNQyMws"
      },
      "execution_count": null,
      "outputs": []
    },
    {
      "cell_type": "code",
      "source": [
        "# sample news\n",
        "sample_news= 'imran khan won election'\n",
        "news= predict_news([sample_news])\n",
        "print(f'{news}')"
      ],
      "metadata": {
        "id": "bs9lL2k85nfF"
      },
      "execution_count": null,
      "outputs": []
    }
  ]
}